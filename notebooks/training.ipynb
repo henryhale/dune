{
 "cells": [
  {
   "cell_type": "markdown",
   "id": "68155015",
   "metadata": {},
   "source": [
    "# Training"
   ]
  },
  {
   "cell_type": "markdown",
   "id": "10964f5c",
   "metadata": {},
   "source": [
    "### Initialize environment\n",
    "- Download NLTK data"
   ]
  },
  {
   "cell_type": "code",
   "execution_count": null,
   "id": "9a1f75c7",
   "metadata": {},
   "outputs": [],
   "source": [
    "from src.utils import check_nltk_data\n",
    "\n",
    "check_nltk_data()"
   ]
  },
  {
   "cell_type": "markdown",
   "id": "0e555c43",
   "metadata": {},
   "source": [
    "### Load data"
   ]
  },
  {
   "cell_type": "code",
   "execution_count": null,
   "id": "45f7b313",
   "metadata": {},
   "outputs": [],
   "source": [
    "import pandas\n",
    "\n",
    "df = pandas.read_csv(\"./data/dataset.csv\")\n",
    "\n",
    "df.shape"
   ]
  },
  {
   "cell_type": "markdown",
   "id": "89af41ad",
   "metadata": {},
   "source": [
    "### Preprocess data"
   ]
  },
  {
   "cell_type": "code",
   "execution_count": null,
   "id": "d89a67b5",
   "metadata": {},
   "outputs": [],
   "source": [
    "from src.preprocess import clean_text\n",
    "\n",
    "df['cleaned_text'] = df['text'].apply(clean_text)\n",
    "\n",
    "df.head()"
   ]
  },
  {
   "cell_type": "markdown",
   "id": "691b49ec",
   "metadata": {},
   "source": [
    "### Split data"
   ]
  },
  {
   "cell_type": "code",
   "execution_count": null,
   "id": "935badfe",
   "metadata": {},
   "outputs": [],
   "source": [
    "from src.train import split_data\n",
    "\n",
    "x_train, x_test, y_train, y_test = split_data(x=df['cleaned_text'], y=df['label'], test_size=0.2)\n",
    "\n",
    "x_train.shape, x_test.shape"
   ]
  },
  {
   "cell_type": "markdown",
   "id": "2e24e650",
   "metadata": {},
   "source": [
    "### Save splits in separate files"
   ]
  },
  {
   "cell_type": "code",
   "execution_count": null,
   "id": "0d438ef9",
   "metadata": {},
   "outputs": [],
   "source": [
    "traindf = pandas.DataFrame()\n",
    "traindf[\"text\"] = x_train\n",
    "traindf[\"label\"] = y_train\n",
    "traindf.to_csv('./data/dataset.training.csv', index=None)\n",
    "\n",
    "testdf = pandas.DataFrame()\n",
    "testdf[\"text\"] = x_test\n",
    "testdf[\"label\"] = y_test\n",
    "testdf.to_csv(\"./data/dataset.testing.csv\", index=None)"
   ]
  },
  {
   "cell_type": "markdown",
   "id": "501d17cc",
   "metadata": {},
   "source": [
    "### Train the model "
   ]
  },
  {
   "cell_type": "code",
   "execution_count": null,
   "id": "9d4b23d8",
   "metadata": {},
   "outputs": [],
   "source": [
    "from src.train import train_model\n",
    "\n",
    "pipeline, metrics = train_model(\"./data/dataset.training.csv\")"
   ]
  },
  {
   "cell_type": "markdown",
   "id": "002cad12",
   "metadata": {},
   "source": [
    "### Training & validation metrics"
   ]
  },
  {
   "cell_type": "code",
   "execution_count": null,
   "id": "e1a7afc3",
   "metadata": {},
   "outputs": [],
   "source": [
    "for k, v in metrics.items():\n",
    "    print(k.upper())\n",
    "    for x, y in v.items():\n",
    "        print(x, y)"
   ]
  },
  {
   "cell_type": "markdown",
   "id": "869defbd",
   "metadata": {},
   "source": [
    "### Training complete\n",
    "Checkout `testing.ipynb` to test or learn how to use the trained model."
   ]
  }
 ],
 "metadata": {
  "kernelspec": {
   "display_name": "Python 3 (ipykernel)",
   "language": "python",
   "name": "python3"
  },
  "language_info": {
   "codemirror_mode": {
    "name": "ipython",
    "version": 3
   },
   "file_extension": ".py",
   "mimetype": "text/x-python",
   "name": "python",
   "nbconvert_exporter": "python",
   "pygments_lexer": "ipython3",
   "version": "3.12.3"
  }
 },
 "nbformat": 4,
 "nbformat_minor": 5
}
