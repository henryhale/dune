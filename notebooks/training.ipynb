{
 "cells": [
  {
   "cell_type": "markdown",
   "id": "68155015",
   "metadata": {},
   "source": [
    "# Training"
   ]
  },
  {
   "cell_type": "markdown",
   "id": "10964f5c",
   "metadata": {},
   "source": [
    "### Initialize environment\n",
    "- Download NLTK data"
   ]
  },
  {
   "cell_type": "code",
   "execution_count": null,
   "id": "9a1f75c7",
   "metadata": {},
   "outputs": [],
   "source": [
    "from core.init import init\n",
    "\n",
    "init()"
   ]
  },
  {
   "cell_type": "markdown",
   "id": "0e555c43",
   "metadata": {},
   "source": [
    "### Load data"
   ]
  },
  {
   "cell_type": "code",
   "execution_count": null,
   "id": "45f7b313",
   "metadata": {},
   "outputs": [],
   "source": [
    "import pandas\n",
    "\n",
    "df = pandas.read_csv(\"./data/dataset.csv\")\n",
    "\n",
    "df.shape"
   ]
  },
  {
   "cell_type": "markdown",
   "id": "89af41ad",
   "metadata": {},
   "source": [
    "### Preprocess data"
   ]
  },
  {
   "cell_type": "code",
   "execution_count": null,
   "id": "d89a67b5",
   "metadata": {},
   "outputs": [],
   "source": [
    "from core.preprocess import preprocess\n",
    "\n",
    "label_encoder = preprocess(df)\n",
    "\n",
    "df.head()"
   ]
  },
  {
   "cell_type": "markdown",
   "id": "691b49ec",
   "metadata": {},
   "source": [
    "### Split data"
   ]
  },
  {
   "cell_type": "code",
   "execution_count": null,
   "id": "935badfe",
   "metadata": {},
   "outputs": [],
   "source": [
    "from core.train import split_data\n",
    "\n",
    "x_train, x_val, x_test, y_train, y_val, y_test = split_data(df)\n",
    "\n",
    "x_train.shape"
   ]
  },
  {
   "cell_type": "markdown",
   "id": "501d17cc",
   "metadata": {},
   "source": [
    "### Train model "
   ]
  },
  {
   "cell_type": "code",
   "execution_count": null,
   "id": "9d4b23d8",
   "metadata": {},
   "outputs": [],
   "source": [
    "from core.train import train_model\n",
    "\n",
    "vectorizer, model = train_model(x_train, y_train)\n"
   ]
  },
  {
   "cell_type": "markdown",
   "id": "002cad12",
   "metadata": {},
   "source": [
    "### Evaluate on validation set"
   ]
  },
  {
   "cell_type": "code",
   "execution_count": null,
   "id": "e98bb93f",
   "metadata": {},
   "outputs": [],
   "source": [
    "from core.evaluate import evaluate_set\n",
    "\n",
    "x_val_tfidf = vectorizer.transform(x_val)\n",
    "y_val_pred = model.predict(x_val_tfidf)\n",
    "\n",
    "evaluate_set(y_val, y_val_pred, label_encoder.classes_)"
   ]
  },
  {
   "cell_type": "markdown",
   "id": "a938093c",
   "metadata": {},
   "source": [
    "### Evaluation on test set"
   ]
  },
  {
   "cell_type": "code",
   "execution_count": null,
   "id": "9afe3d89",
   "metadata": {},
   "outputs": [],
   "source": [
    "from core.evaluate import evaluate_set\n",
    "\n",
    "x_test_tfidf = vectorizer.transform(x_test)\n",
    "y_test_pred = model.predict(x_test_tfidf)\n",
    "\n",
    "evaluate_set(y_test, y_test_pred, label_encoder.classes_)"
   ]
  },
  {
   "cell_type": "markdown",
   "id": "539a0a31",
   "metadata": {},
   "source": [
    "### Export model & vectorizer"
   ]
  },
  {
   "cell_type": "code",
   "execution_count": null,
   "id": "e87d1dec",
   "metadata": {},
   "outputs": [],
   "source": [
    "from core.io import export_model\n",
    "\n",
    "export_model(\n",
    "    model,\n",
    "    vectorizer,\n",
    "    model_path=\"./models/dune.linearsvc.joblib\",\n",
    "    vectorizer_path=\"./models/dune.tfidf.joblib\",\n",
    ")"
   ]
  }
 ],
 "metadata": {
  "kernelspec": {
   "display_name": "Python 3 (ipykernel)",
   "language": "python",
   "name": "python3"
  },
  "language_info": {
   "codemirror_mode": {
    "name": "ipython",
    "version": 3
   },
   "file_extension": ".py",
   "mimetype": "text/x-python",
   "name": "python",
   "nbconvert_exporter": "python",
   "pygments_lexer": "ipython3",
   "version": "3.12.3"
  }
 },
 "nbformat": 4,
 "nbformat_minor": 5
}
