{
 "cells": [
  {
   "cell_type": "markdown",
   "id": "8463ef73",
   "metadata": {},
   "source": [
    "# 0. Data preparation"
   ]
  },
  {
   "cell_type": "markdown",
   "id": "48fb275b",
   "metadata": {},
   "source": [
    "### create dataset file"
   ]
  },
  {
   "cell_type": "code",
   "execution_count": null,
   "id": "d06291c1",
   "metadata": {},
   "outputs": [],
   "source": [
    "from core.preprocessing import validate_samples\n",
    "\n",
    "# run validation\n",
    "validate_samples(\"./data/\")"
   ]
  },
  {
   "cell_type": "code",
   "execution_count": null,
   "id": "49a52288",
   "metadata": {},
   "outputs": [],
   "source": [
    "from core.preprocessing import preprocess_text\n",
    "\n",
    "preprocess_text(\"how are you? What's the program. Hello, World! How's your going?\")"
   ]
  },
  {
   "cell_type": "code",
   "execution_count": null,
   "id": "ec4b3f64",
   "metadata": {},
   "outputs": [],
   "source": [
    "import pandas\n",
    "from core.augmentation import augment_data\n",
    "\n",
    "df = pandas.DataFrame({\n",
    "    'text': [\"hello world is everything okay\"],\n",
    "    'label': [\"yes\"]\n",
    "})\n",
    "\n",
    "df2 = augment_data(df)\n",
    "df2"
   ]
  }
 ],
 "metadata": {
  "kernelspec": {
   "display_name": "Python 3 (ipykernel)",
   "language": "python",
   "name": "python3"
  },
  "language_info": {
   "codemirror_mode": {
    "name": "ipython",
    "version": 3
   },
   "file_extension": ".py",
   "mimetype": "text/x-python",
   "name": "python",
   "nbconvert_exporter": "python",
   "pygments_lexer": "ipython3",
   "version": "3.12.3"
  }
 },
 "nbformat": 4,
 "nbformat_minor": 5
}
