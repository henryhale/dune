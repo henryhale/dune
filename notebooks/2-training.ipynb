{
 "cells": [
  {
   "cell_type": "markdown",
   "id": "be294e28",
   "metadata": {},
   "source": [
    "# 2. Training\n",
    "In this section, the clean dataset is split into two sets:\n",
    "\n",
    "- training set\n",
    "- testing set\n",
    "\n",
    "The chosen model is trained on the training set."
   ]
  },
  {
   "cell_type": "code",
   "execution_count": null,
   "id": "a527bd48",
   "metadata": {},
   "outputs": [],
   "source": [
    "import pandas as pd\n",
    "\n",
    "clean_dataset_path = \"./data/dataset-clean.csv\"\n",
    "\n",
    "try:\n",
    "    df = pd.read_csv(clean_dataset_path)\n",
    "except FileNotFoundError:\n",
    "    print(\"[dataset]: file not found\")\n",
    "\n",
    "df.head()"
   ]
  },
  {
   "cell_type": "code",
   "execution_count": null,
   "id": "9340765e",
   "metadata": {},
   "outputs": [],
   "source": [
    "# cleaned text as the feature (input)\n",
    "X = df['clean_text'].fillna('')\n",
    "# label as the class (output)\n",
    "y = df['label']\n",
    "\n",
    "print(f\"Shape of features(X): {X.shape}\")\n",
    "print(f\"Shape of labels(X): {y.shape}\")"
   ]
  },
  {
   "cell_type": "markdown",
   "id": "c100e66a",
   "metadata": {},
   "source": [
    "### 2.1 Train-test split\n",
    "- The testing set should never be exposed to the model during training.\n",
    "- `stratify=y` is important for classification tasks to ensure that the proportion of classes is roughly the same in both training and test sets."
   ]
  },
  {
   "cell_type": "code",
   "execution_count": null,
   "id": "b09ae925",
   "metadata": {},
   "outputs": [],
   "source": [
    "from sklearn.model_selection import train_test_split\n",
    "\n",
    "X_train, X_test, y_train, y_test = train_test_split(\n",
    "    X, y, test_size=0.2, random_state=42, stratify=y\n",
    ")\n",
    "\n",
    "print(f\"Size of training set: {len(X_train)}\")\n",
    "print(f\"Size of testing set: {len(X_test)}\")"
   ]
  },
  {
   "cell_type": "markdown",
   "id": "bd6f6b4d",
   "metadata": {},
   "source": [
    "### 2.2 Model selection\n",
    "To select the appropriate machine learning algorithms for text classification, a pipeline is built to transform text into numerical features and then classify them."
   ]
  },
  {
   "cell_type": "code",
   "execution_count": null,
   "id": "b1e37939",
   "metadata": {},
   "outputs": [],
   "source": [
    "from sklearn.pipeline import Pipeline\n",
    "from sklearn.feature_extraction.text import TfidfVectorizer\n",
    "from sklearn.naive_bayes import MultinomialNB\n",
    "from sklearn.linear_model import LogisticRegression\n",
    "\n",
    "pipeline_mnb = Pipeline(\n",
    "    [\n",
    "        (\"tfdif\", TfidfVectorizer(ngram_range=(1, 2), max_features=5000)),\n",
    "        (\"clf\", MultinomialNB(alpha=1.0)),\n",
    "    ]\n",
    ")\n",
    "\n",
    "pipeline_mnb.fit(X_train, y_train)\n",
    "\n",
    "pipeline_mnb"
   ]
  },
  {
   "cell_type": "code",
   "execution_count": null,
   "id": "30f91c3e",
   "metadata": {},
   "outputs": [],
   "source": [
    "pipeline_mnb.predict(\"what can you do\")"
   ]
  }
 ],
 "metadata": {
  "kernelspec": {
   "display_name": "Python 3 (ipykernel)",
   "language": "python",
   "name": "python3"
  },
  "language_info": {
   "codemirror_mode": {
    "name": "ipython",
    "version": 3
   },
   "file_extension": ".py",
   "mimetype": "text/x-python",
   "name": "python",
   "nbconvert_exporter": "python",
   "pygments_lexer": "ipython3",
   "version": "3.12.3"
  }
 },
 "nbformat": 4,
 "nbformat_minor": 5
}
