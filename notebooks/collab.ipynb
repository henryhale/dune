{
 "cells": [
  {
   "cell_type": "markdown",
   "metadata": {},
   "source": [
    "# Dune \n",
    "\n",
    "A Text-to-Command Model - Google Colab Runner\n",
    "\n",
    "This notebook clones the project repository and executes the training notebook.\n",
    "\n",
    "<!-- [![Open In Colab](https://colab.research.google.com/assets/colab-badge.svg)](https://colab.research.google.com/github/yourusername/text-to-command-model/blob/main/notebooks/colab_runner.ipynb) -->"
   ]
  },
  {
   "cell_type": "markdown",
   "metadata": {},
   "source": [
    "### Setup Environment"
   ]
  },
  {
   "cell_type": "code",
   "execution_count": null,
   "metadata": {},
   "outputs": [],
   "source": [
    "!python --version"
   ]
  },
  {
   "cell_type": "markdown",
   "metadata": {},
   "source": [
    "### Clone Repository"
   ]
  },
  {
   "cell_type": "code",
   "execution_count": null,
   "metadata": {},
   "outputs": [],
   "source": [
    "import os\n",
    "\n",
    "REPO_URL = \"https://github.com/henryhale/dune.git\"\n",
    "REPO_NAME = \"dune\"\n",
    "\n",
    "# remove existing directory if present\n",
    "if os.path.exists(REPO_NAME):\n",
    "    !rm -rf {REPO_NAME}\n",
    "\n",
    "# clone repository\n",
    "!git clone {REPO_URL}\n",
    "\n",
    "%cd {REPO_NAME}\n",
    "\n",
    "# list repository contents\n",
    "!ls -la"
   ]
  },
  {
   "cell_type": "markdown",
   "metadata": {},
   "source": [
    "### Install Dependencies"
   ]
  },
  {
   "cell_type": "code",
   "execution_count": null,
   "metadata": {},
   "outputs": [],
   "source": [
    "!pip install -q -r requirements.txt"
   ]
  },
  {
   "cell_type": "markdown",
   "metadata": {},
   "source": [
    "### Execute Notebook\n",
    "\n",
    "Now we'll execute the main training/demo notebook from the repository.\n",
    "\n",
    "The notebook will run cells inline - the output will be directly seen in this notebook."
   ]
  },
  {
   "cell_type": "code",
   "execution_count": null,
   "metadata": {},
   "outputs": [],
   "source": [
    "%run notebooks/training.ipynb"
   ]
  },
  {
   "cell_type": "markdown",
   "metadata": {},
   "source": [
    "### View Results\n",
    "\n",
    "Check if models were created successfully:"
   ]
  },
  {
   "cell_type": "code",
   "execution_count": null,
   "metadata": {},
   "outputs": [],
   "source": [
    "# list generated models\n",
    "!ls -lh models/\n",
    "\n",
    "# check augmented data\n",
    "# !ls -lh data/augmented/"
   ]
  },
  {
   "cell_type": "markdown",
   "metadata": {},
   "source": [
    "### Quick Test\n",
    "\n",
    "Test the trained model with sample commands:"
   ]
  },
  {
   "cell_type": "code",
   "execution_count": null,
   "metadata": {},
   "outputs": [],
   "source": [
    "# Import prediction function\n",
    "# import sys\n",
    "# sys.path.append('core')\n",
    "\n",
    "# from predict import predict_command\n",
    "\n",
    "# # Test commands\n",
    "# test_commands = [\n",
    "#     \"go home\",\n",
    "#     \"add task buy groceries\",\n",
    "#     \"delete this item\",\n",
    "#     \"what is the weather\",  # Should return NOOP\n",
    "#     \"mark as complete\"\n",
    "# ]\n",
    "\n",
    "# print(\"Testing predictions:\\n\")\n",
    "# for cmd in test_commands:\n",
    "#     result = predict_command(cmd)\n",
    "#     print(f\"Input: '{cmd}'\")\n",
    "#     print(f\"Output: {result['command']} (confidence: {result['confidence']:.2f})\")\n",
    "#     print()"
   ]
  },
  {
   "cell_type": "markdown",
   "metadata": {},
   "source": [
    "### Download Trained Models\n",
    "\n",
    "Download the trained models to your local machine:"
   ]
  },
  {
   "cell_type": "code",
   "execution_count": null,
   "metadata": {},
   "outputs": [],
   "source": [
    "# from google.colab import files\n",
    "\n",
    "# files.download('models/dune.linearsvc.joblib')\n",
    "# files.download('models/dune.tfidf.joblib')"
   ]
  },
  {
   "cell_type": "markdown",
   "metadata": {},
   "source": [
    "### Cleanup"
   ]
  },
  {
   "cell_type": "code",
   "execution_count": null,
   "metadata": {},
   "outputs": [],
   "source": [
    "# %cd ..\n",
    "\n",
    "# remove cloned repository\n",
    "# !rm -rf {REPO_NAME}"
   ]
  }
 ],
 "metadata": {
  "colab": {
   "provenance": [],
   "toc_visible": true
  },
  "kernelspec": {
   "display_name": "Python 3",
   "language": "python",
   "name": "python3"
  },
  "language_info": {
   "codemirror_mode": {
    "name": "ipython",
    "version": 3
   },
   "file_extension": ".py",
   "mimetype": "text/x-python",
   "name": "python",
   "nbconvert_exporter": "python",
   "pygments_lexer": "ipython3",
   "version": "3.10.0"
  }
 },
 "nbformat": 4,
 "nbformat_minor": 0
}
