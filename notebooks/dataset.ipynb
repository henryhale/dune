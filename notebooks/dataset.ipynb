{
 "cells": [
  {
   "cell_type": "markdown",
   "id": "8463ef73",
   "metadata": {},
   "source": [
    "# Data Preprocessing"
   ]
  },
  {
   "cell_type": "markdown",
   "id": "48fb275b",
   "metadata": {},
   "source": [
    "### create dataset file"
   ]
  },
  {
   "cell_type": "code",
   "execution_count": 98,
   "id": "d06291c1",
   "metadata": {},
   "outputs": [
    {
     "name": "stdout",
     "output_type": "stream",
     "text": [
      "All classes are valid.\n"
     ]
    }
   ],
   "source": [
    "from core.preprocessing import validate_samples\n",
    "\n",
    "# run validation\n",
    "validate_samples(\"./data/\")"
   ]
  },
  {
   "cell_type": "code",
   "execution_count": 99,
   "id": "49a52288",
   "metadata": {},
   "outputs": [
    {
     "data": {
      "text/plain": [
       "'whats program hello world hows going'"
      ]
     },
     "execution_count": 99,
     "metadata": {},
     "output_type": "execute_result"
    }
   ],
   "source": [
    "from core.preprocessing import clean_text\n",
    "\n",
    "clean_text(\"how are you? What's the program. Hello, World! How's your going?\")"
   ]
  },
  {
   "cell_type": "code",
   "execution_count": 9,
   "id": "ec4b3f64",
   "metadata": {},
   "outputs": [
    {
     "data": {
      "text/html": [
       "<div>\n",
       "<style scoped>\n",
       "    .dataframe tbody tr th:only-of-type {\n",
       "        vertical-align: middle;\n",
       "    }\n",
       "\n",
       "    .dataframe tbody tr th {\n",
       "        vertical-align: top;\n",
       "    }\n",
       "\n",
       "    .dataframe thead th {\n",
       "        text-align: right;\n",
       "    }\n",
       "</style>\n",
       "<table border=\"1\" class=\"dataframe\">\n",
       "  <thead>\n",
       "    <tr style=\"text-align: right;\">\n",
       "      <th></th>\n",
       "      <th>0</th>\n",
       "      <th>1</th>\n",
       "    </tr>\n",
       "  </thead>\n",
       "  <tbody>\n",
       "    <tr>\n",
       "      <th>0</th>\n",
       "      <td>yes</td>\n",
       "      <td>hello world is everything okay</td>\n",
       "    </tr>\n",
       "    <tr>\n",
       "      <th>1</th>\n",
       "      <td>hello world is everything O.K.</td>\n",
       "      <td>yes</td>\n",
       "    </tr>\n",
       "    <tr>\n",
       "      <th>2</th>\n",
       "      <td>hello world be everything okay</td>\n",
       "      <td>yes</td>\n",
       "    </tr>\n",
       "    <tr>\n",
       "      <th>3</th>\n",
       "      <td>hello populace is everything approve</td>\n",
       "      <td>yes</td>\n",
       "    </tr>\n",
       "    <tr>\n",
       "      <th>4</th>\n",
       "      <td>hello global is everything okay</td>\n",
       "      <td>yes</td>\n",
       "    </tr>\n",
       "  </tbody>\n",
       "</table>\n",
       "</div>"
      ],
      "text/plain": [
       "                                      0                               1\n",
       "0                                   yes  hello world is everything okay\n",
       "1        hello world is everything O.K.                             yes\n",
       "2        hello world be everything okay                             yes\n",
       "3  hello populace is everything approve                             yes\n",
       "4       hello global is everything okay                             yes"
      ]
     },
     "execution_count": 9,
     "metadata": {},
     "output_type": "execute_result"
    }
   ],
   "source": [
    "import pandas\n",
    "from core.augmentation import augment_data\n",
    "\n",
    "df = pandas.DataFrame({\n",
    "    'input_variation': [\"hello world is everything okay\"],\n",
    "    'output_class': [\"yes\"]\n",
    "})\n",
    "\n",
    "df2 = augment_data(df)\n",
    "df2"
   ]
  }
 ],
 "metadata": {
  "kernelspec": {
   "display_name": "Python 3 (ipykernel)",
   "language": "python",
   "name": "python3"
  },
  "language_info": {
   "codemirror_mode": {
    "name": "ipython",
    "version": 3
   },
   "file_extension": ".py",
   "mimetype": "text/x-python",
   "name": "python",
   "nbconvert_exporter": "python",
   "pygments_lexer": "ipython3",
   "version": "3.12.3"
  }
 },
 "nbformat": 4,
 "nbformat_minor": 5
}
