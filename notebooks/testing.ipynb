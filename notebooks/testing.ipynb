{
 "cells": [
  {
   "cell_type": "markdown",
   "id": "fe3c15d4",
   "metadata": {},
   "source": [
    "# Testing\n",
    "Running this notebook assumes that you have trained the model already.\n",
    "\n",
    "If not, first run `training.ipynb`. It will create dataset splits, train and save the model.\n",
    "\n",
    "This notebook loads testing dataset and the trained model with which predictions are made."
   ]
  },
  {
   "cell_type": "markdown",
   "id": "3ba22b7a",
   "metadata": {},
   "source": [
    "### Load testing set"
   ]
  },
  {
   "cell_type": "code",
   "execution_count": null,
   "id": "02797bde",
   "metadata": {},
   "outputs": [],
   "source": [
    "import pandas\n",
    "\n",
    "data = pandas.read_csv(\"./data/dataset.testing.csv\")\n",
    "data.head()"
   ]
  },
  {
   "cell_type": "markdown",
   "id": "5daeff61",
   "metadata": {},
   "source": [
    "### Load model"
   ]
  },
  {
   "cell_type": "code",
   "execution_count": null,
   "id": "277db372",
   "metadata": {},
   "outputs": [],
   "source": [
    "from src.utils import load_model\n",
    "\n",
    "pipeline = load_model(\"./models/dune.pipeline.joblib.gz\")\n",
    "\n",
    "pipeline"
   ]
  },
  {
   "cell_type": "markdown",
   "id": "5abb24e4",
   "metadata": {},
   "source": [
    "### Evaluate on test set"
   ]
  },
  {
   "cell_type": "code",
   "execution_count": null,
   "id": "df25b5a8",
   "metadata": {},
   "outputs": [],
   "source": [
    "from sklearn.metrics import classification_report, accuracy_score\n",
    "\n",
    "x_test = data[\"text\"]\n",
    "y_test = data[\"label\"]\n",
    "y_test_pred = pipeline.predict(x_test)\n",
    "\n",
    "report = classification_report(\n",
    "    y_true=y_test,\n",
    "    y_pred=y_test_pred,\n",
    "    zero_division=0,\n",
    "    target_names=pipeline.classes_,\n",
    ")\n",
    "print(f\"classification report:\\n{report}\")\n",
    "\n",
    "accuracy = accuracy_score(y_test, y_test_pred)\n",
    "print(f\"accuracy: {accuracy}\")"
   ]
  },
  {
   "cell_type": "markdown",
   "id": "acabbffa",
   "metadata": {},
   "source": [
    "### Simulate user prompts"
   ]
  },
  {
   "cell_type": "code",
   "execution_count": null,
   "id": "4c345363",
   "metadata": {},
   "outputs": [],
   "source": [
    "extra_test_cases = [\n",
    "    \"go home\",\n",
    "    \"open settings\",\n",
    "    \"show my tasks\",\n",
    "    \"go back\",\n",
    "    \"add task buy apples\",\n",
    "    \"create new item finish project\",\n",
    "    \"delete this task\",\n",
    "    \"mark as complete\",\n",
    "    \"select task 1\",\n",
    "    \"next item\",\n",
    "    \"previous\",\n",
    "    \"enter title my new task\",\n",
    "    \"submit form\",\n",
    "    \"cancel\",\n",
    "    \"withdraw\",\n",
    "    \"help\",\n",
    "    \"yes\",\n",
    "    \"undo\",\n",
    "    \"what is the weather now\",\n",
    "    \"tell me a joke\",\n",
    "    \"hello there\",\n",
    "]"
   ]
  },
  {
   "cell_type": "code",
   "execution_count": null,
   "id": "089aa25e",
   "metadata": {},
   "outputs": [],
   "source": [
    "from src.predict import predict_command\n",
    "\n",
    "for i, text in enumerate(extra_test_cases, 1):\n",
    "    result = predict_command(text)\n",
    "\n",
    "    print(f\"\\ninput: {text}\")\n",
    "    print(f\"command: {result['command']}\")\n",
    "    print(f\"confidence: {result['confidence']}\")"
   ]
  }
 ],
 "metadata": {
  "kernelspec": {
   "display_name": "Python 3 (ipykernel)",
   "language": "python",
   "name": "python3"
  },
  "language_info": {
   "codemirror_mode": {
    "name": "ipython",
    "version": 3
   },
   "file_extension": ".py",
   "mimetype": "text/x-python",
   "name": "python",
   "nbconvert_exporter": "python",
   "pygments_lexer": "ipython3",
   "version": "3.12.3"
  }
 },
 "nbformat": 4,
 "nbformat_minor": 5
}
